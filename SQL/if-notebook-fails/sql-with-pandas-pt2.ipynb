{
 "cells": [
  {
   "cell_type": "markdown",
   "metadata": {},
   "source": [
    "<img src=\"http://imgur.com/1ZcRyrc.png\" style=\"float: left; margin: 20px; height: 55px\">\n",
    "\n",
    "# Practice SQL with Pandas pt. 2\n",
    "\n",
    "_Authors: Sam Stack (DC)_\n",
    "\n",
    "---\n",
    "\n",
    "We've learned about relational databases and the language most use to query them, SQL.  \n",
    "\n",
    "In this lab we are going to gain more practice converting information to a SQL DB, querying the data and then analyzing it with Python."
   ]
  },
  {
   "cell_type": "code",
   "execution_count": 2,
   "metadata": {},
   "outputs": [],
   "source": [
    "# Necessary Libraries\n",
    "import pandas as pd\n",
    "import sqlite3\n",
    "from pandas.io import sql"
   ]
  },
  {
   "cell_type": "markdown",
   "metadata": {},
   "source": [
    "#### 1.  Read in the EuroMart CSV Data.\n",
    "- 'EuroMart-ListOfOrders.csv'\n",
    "- 'EuroMart-OrderBreakdown.csv'\n",
    "- 'EuroMart-SalesTargets.csv'"
   ]
  },
  {
   "cell_type": "code",
   "execution_count": 32,
   "metadata": {},
   "outputs": [],
   "source": [
    "# Reading CSV to Dataframe\n",
    "orders = pd.read_csv('./datasets/csv/EuroMart-ListOfOrders.csv', encoding = 'utf-8')\n",
    "OBD =  pd.read_csv('./datasets/csv/EuroMart-OrderBreakdown.csv', encoding = 'utf-8')\n",
    "sales_targets =  pd.read_csv('./datasets/csv/EuroMart-SalesTargets.csv', encoding = 'utf-8')"
   ]
  },
  {
   "cell_type": "markdown",
   "metadata": {},
   "source": [
    "#### 2. Rename columns to remove any spaces."
   ]
  },
  {
   "cell_type": "code",
   "execution_count": 33,
   "metadata": {},
   "outputs": [
    {
     "data": {
      "text/plain": [
       "Index(['OrderID', 'ProductName', 'Discount', 'Sales', 'Profit', 'Quantity',\n",
       "       'Category', 'Sub-Category'],\n",
       "      dtype='object')"
      ]
     },
     "execution_count": 33,
     "metadata": {},
     "output_type": "execute_result"
    }
   ],
   "source": [
    "# A:\n",
    "for df in [orders, OBD, sales_targets]:\n",
    "    names = [i.replace(' ','') for i in df.columns.tolist()]\n",
    "    df.columns = names\n",
    "OBD.columns"
   ]
  },
  {
   "cell_type": "markdown",
   "metadata": {},
   "source": [
    "#### 3. Remove dollar signs from sales and profit columns in the order breakdown dataframe.\n",
    "\n",
    "Convert the columns to float."
   ]
  },
  {
   "cell_type": "code",
   "execution_count": 43,
   "metadata": {},
   "outputs": [
    {
     "data": {
      "text/html": [
       "<div>\n",
       "<style scoped>\n",
       "    .dataframe tbody tr th:only-of-type {\n",
       "        vertical-align: middle;\n",
       "    }\n",
       "\n",
       "    .dataframe tbody tr th {\n",
       "        vertical-align: top;\n",
       "    }\n",
       "\n",
       "    .dataframe thead th {\n",
       "        text-align: right;\n",
       "    }\n",
       "</style>\n",
       "<table border=\"1\" class=\"dataframe\">\n",
       "  <thead>\n",
       "    <tr style=\"text-align: right;\">\n",
       "      <th></th>\n",
       "      <th>OrderID</th>\n",
       "      <th>ProductName</th>\n",
       "      <th>Discount</th>\n",
       "      <th>Sales</th>\n",
       "      <th>Profit</th>\n",
       "      <th>Quantity</th>\n",
       "      <th>Category</th>\n",
       "      <th>Sub-Category</th>\n",
       "    </tr>\n",
       "  </thead>\n",
       "  <tbody>\n",
       "    <tr>\n",
       "      <th>0</th>\n",
       "      <td>BN-2011-7407039</td>\n",
       "      <td>Enermax Note Cards, Premium</td>\n",
       "      <td>0.5</td>\n",
       "      <td>45.0</td>\n",
       "      <td>-26.0</td>\n",
       "      <td>3</td>\n",
       "      <td>Office Supplies</td>\n",
       "      <td>Paper</td>\n",
       "    </tr>\n",
       "    <tr>\n",
       "      <th>1</th>\n",
       "      <td>AZ-2011-9050313</td>\n",
       "      <td>Dania Corner Shelving, Traditional</td>\n",
       "      <td>0.0</td>\n",
       "      <td>854.0</td>\n",
       "      <td>290.0</td>\n",
       "      <td>7</td>\n",
       "      <td>Furniture</td>\n",
       "      <td>Bookcases</td>\n",
       "    </tr>\n",
       "    <tr>\n",
       "      <th>2</th>\n",
       "      <td>AZ-2011-6674300</td>\n",
       "      <td>Binney &amp; Smith Sketch Pad, Easy-Erase</td>\n",
       "      <td>0.0</td>\n",
       "      <td>140.0</td>\n",
       "      <td>21.0</td>\n",
       "      <td>3</td>\n",
       "      <td>Office Supplies</td>\n",
       "      <td>Art</td>\n",
       "    </tr>\n",
       "    <tr>\n",
       "      <th>3</th>\n",
       "      <td>BN-2011-2819714</td>\n",
       "      <td>Boston Markers, Easy-Erase</td>\n",
       "      <td>0.5</td>\n",
       "      <td>27.0</td>\n",
       "      <td>-22.0</td>\n",
       "      <td>2</td>\n",
       "      <td>Office Supplies</td>\n",
       "      <td>Art</td>\n",
       "    </tr>\n",
       "    <tr>\n",
       "      <th>4</th>\n",
       "      <td>BN-2011-2819714</td>\n",
       "      <td>Eldon Folders, Single Width</td>\n",
       "      <td>0.5</td>\n",
       "      <td>17.0</td>\n",
       "      <td>-1.0</td>\n",
       "      <td>2</td>\n",
       "      <td>Office Supplies</td>\n",
       "      <td>Storage</td>\n",
       "    </tr>\n",
       "  </tbody>\n",
       "</table>\n",
       "</div>"
      ],
      "text/plain": [
       "           OrderID                            ProductName  Discount  Sales  \\\n",
       "0  BN-2011-7407039            Enermax Note Cards, Premium       0.5   45.0   \n",
       "1  AZ-2011-9050313     Dania Corner Shelving, Traditional       0.0  854.0   \n",
       "2  AZ-2011-6674300  Binney & Smith Sketch Pad, Easy-Erase       0.0  140.0   \n",
       "3  BN-2011-2819714             Boston Markers, Easy-Erase       0.5   27.0   \n",
       "4  BN-2011-2819714            Eldon Folders, Single Width       0.5   17.0   \n",
       "\n",
       "   Profit  Quantity         Category Sub-Category  \n",
       "0   -26.0         3  Office Supplies        Paper  \n",
       "1   290.0         7        Furniture    Bookcases  \n",
       "2    21.0         3  Office Supplies          Art  \n",
       "3   -22.0         2  Office Supplies          Art  \n",
       "4    -1.0         2  Office Supplies      Storage  "
      ]
     },
     "execution_count": 43,
     "metadata": {},
     "output_type": "execute_result"
    }
   ],
   "source": [
    "# A: \n",
    "OBD.loc[:, ['Sales', 'Profit']] = OBD[['Sales', 'Profit']].applymap(lambda x: float(str(x).replace('$', '').replace(',', '')))\n",
    "OBD.head()"
   ]
  },
  {
   "cell_type": "markdown",
   "metadata": {},
   "source": [
    "#### 4. Create a SQL Database called 'EuroMart' and save the three dataframes as SQL tables. "
   ]
  },
  {
   "cell_type": "code",
   "execution_count": 22,
   "metadata": {},
   "outputs": [],
   "source": [
    "# Establishing Local DB connection\n",
    "db_connection = sqlite3.connect('./datasets/sql/EuroMart.db.sqlite')\n"
   ]
  },
  {
   "cell_type": "code",
   "execution_count": 44,
   "metadata": {},
   "outputs": [],
   "source": [
    "# A: \n",
    "lst = ['orders', 'order_breakdown', 'sales_target']\n",
    "for c, df in enumerate([orders, OBD, sales_targets]):\n",
    "    df.to_sql(lst[c], con = db_connection, if_exists = 'replace', index = False)"
   ]
  },
  {
   "cell_type": "markdown",
   "metadata": {},
   "source": [
    "#### 5. How many orders has each Customer placed? "
   ]
  },
  {
   "cell_type": "code",
   "execution_count": 46,
   "metadata": {},
   "outputs": [],
   "source": [
    "def sql(string):\n",
    "    return pd.read_sql(string, con=globals()['db_connection'])"
   ]
  },
  {
   "cell_type": "code",
   "execution_count": 56,
   "metadata": {},
   "outputs": [
    {
     "data": {
      "text/html": [
       "<div>\n",
       "<style scoped>\n",
       "    .dataframe tbody tr th:only-of-type {\n",
       "        vertical-align: middle;\n",
       "    }\n",
       "\n",
       "    .dataframe tbody tr th {\n",
       "        vertical-align: top;\n",
       "    }\n",
       "\n",
       "    .dataframe thead th {\n",
       "        text-align: right;\n",
       "    }\n",
       "</style>\n",
       "<table border=\"1\" class=\"dataframe\">\n",
       "  <thead>\n",
       "    <tr style=\"text-align: right;\">\n",
       "      <th></th>\n",
       "      <th>CustomerName</th>\n",
       "      <th>count</th>\n",
       "    </tr>\n",
       "  </thead>\n",
       "  <tbody>\n",
       "    <tr>\n",
       "      <th>0</th>\n",
       "      <td>Jose Gambino</td>\n",
       "      <td>13</td>\n",
       "    </tr>\n",
       "    <tr>\n",
       "      <th>1</th>\n",
       "      <td>Kayla Tearle</td>\n",
       "      <td>12</td>\n",
       "    </tr>\n",
       "    <tr>\n",
       "      <th>2</th>\n",
       "      <td>Mark Washington</td>\n",
       "      <td>12</td>\n",
       "    </tr>\n",
       "    <tr>\n",
       "      <th>3</th>\n",
       "      <td>Aaron Bootman</td>\n",
       "      <td>11</td>\n",
       "    </tr>\n",
       "    <tr>\n",
       "      <th>4</th>\n",
       "      <td>Georgina Garner</td>\n",
       "      <td>11</td>\n",
       "    </tr>\n",
       "  </tbody>\n",
       "</table>\n",
       "</div>"
      ],
      "text/plain": [
       "      CustomerName  count\n",
       "0     Jose Gambino     13\n",
       "1     Kayla Tearle     12\n",
       "2  Mark Washington     12\n",
       "3    Aaron Bootman     11\n",
       "4  Georgina Garner     11"
      ]
     },
     "execution_count": 56,
     "metadata": {},
     "output_type": "execute_result"
    }
   ],
   "source": [
    "# A:\n",
    "sql('''\n",
    "select \"CustomerName\", count(\"OrderID\") as \"count\" from orders group by \"CustomerName\" order by \"count\" DESC\n",
    "''').head()"
   ]
  },
  {
   "cell_type": "code",
   "execution_count": 62,
   "metadata": {},
   "outputs": [
    {
     "data": {
      "text/html": [
       "<div>\n",
       "<style scoped>\n",
       "    .dataframe tbody tr th:only-of-type {\n",
       "        vertical-align: middle;\n",
       "    }\n",
       "\n",
       "    .dataframe tbody tr th {\n",
       "        vertical-align: top;\n",
       "    }\n",
       "\n",
       "    .dataframe thead th {\n",
       "        text-align: right;\n",
       "    }\n",
       "</style>\n",
       "<table border=\"1\" class=\"dataframe\">\n",
       "  <thead>\n",
       "    <tr style=\"text-align: right;\">\n",
       "      <th></th>\n",
       "      <th>OrderID</th>\n",
       "    </tr>\n",
       "    <tr>\n",
       "      <th>CustomerName</th>\n",
       "      <th></th>\n",
       "    </tr>\n",
       "  </thead>\n",
       "  <tbody>\n",
       "    <tr>\n",
       "      <th>Jose Gambino</th>\n",
       "      <td>13</td>\n",
       "    </tr>\n",
       "    <tr>\n",
       "      <th>Mark Washington</th>\n",
       "      <td>12</td>\n",
       "    </tr>\n",
       "    <tr>\n",
       "      <th>Kayla Tearle</th>\n",
       "      <td>12</td>\n",
       "    </tr>\n",
       "    <tr>\n",
       "      <th>Aaron Bootman</th>\n",
       "      <td>11</td>\n",
       "    </tr>\n",
       "    <tr>\n",
       "      <th>Hayden Perkins</th>\n",
       "      <td>11</td>\n",
       "    </tr>\n",
       "  </tbody>\n",
       "</table>\n",
       "</div>"
      ],
      "text/plain": [
       "                 OrderID\n",
       "CustomerName            \n",
       "Jose Gambino          13\n",
       "Mark Washington       12\n",
       "Kayla Tearle          12\n",
       "Aaron Bootman         11\n",
       "Hayden Perkins        11"
      ]
     },
     "execution_count": 62,
     "metadata": {},
     "output_type": "execute_result"
    }
   ],
   "source": [
    "orders.groupby('CustomerName').count()[['OrderID']].sort_values('OrderID', ascending = False).head()"
   ]
  },
  {
   "cell_type": "markdown",
   "metadata": {},
   "source": [
    "> *If you're doubting your output check using Pandas*"
   ]
  },
  {
   "cell_type": "markdown",
   "metadata": {},
   "source": [
    "#### 6. Create a Query to return a table of only geographic features from the List of Orders Table."
   ]
  },
  {
   "cell_type": "code",
   "execution_count": 66,
   "metadata": {},
   "outputs": [
    {
     "data": {
      "text/html": [
       "<div>\n",
       "<style scoped>\n",
       "    .dataframe tbody tr th:only-of-type {\n",
       "        vertical-align: middle;\n",
       "    }\n",
       "\n",
       "    .dataframe tbody tr th {\n",
       "        vertical-align: top;\n",
       "    }\n",
       "\n",
       "    .dataframe thead th {\n",
       "        text-align: right;\n",
       "    }\n",
       "</style>\n",
       "<table border=\"1\" class=\"dataframe\">\n",
       "  <thead>\n",
       "    <tr style=\"text-align: right;\">\n",
       "      <th></th>\n",
       "      <th>City</th>\n",
       "      <th>Country</th>\n",
       "      <th>Region</th>\n",
       "      <th>State</th>\n",
       "    </tr>\n",
       "  </thead>\n",
       "  <tbody>\n",
       "    <tr>\n",
       "      <th>0</th>\n",
       "      <td>Stockholm</td>\n",
       "      <td>Sweden</td>\n",
       "      <td>North</td>\n",
       "      <td>Stockholm</td>\n",
       "    </tr>\n",
       "    <tr>\n",
       "      <th>1</th>\n",
       "      <td>Southport</td>\n",
       "      <td>United Kingdom</td>\n",
       "      <td>North</td>\n",
       "      <td>England</td>\n",
       "    </tr>\n",
       "    <tr>\n",
       "      <th>2</th>\n",
       "      <td>Valence</td>\n",
       "      <td>France</td>\n",
       "      <td>Central</td>\n",
       "      <td>Auvergne-Rhône-Alpes</td>\n",
       "    </tr>\n",
       "    <tr>\n",
       "      <th>3</th>\n",
       "      <td>Birmingham</td>\n",
       "      <td>United Kingdom</td>\n",
       "      <td>North</td>\n",
       "      <td>England</td>\n",
       "    </tr>\n",
       "    <tr>\n",
       "      <th>4</th>\n",
       "      <td>Echirolles</td>\n",
       "      <td>France</td>\n",
       "      <td>Central</td>\n",
       "      <td>Auvergne-Rhône-Alpes</td>\n",
       "    </tr>\n",
       "  </tbody>\n",
       "</table>\n",
       "</div>"
      ],
      "text/plain": [
       "         City         Country   Region                 State\n",
       "0   Stockholm          Sweden    North             Stockholm\n",
       "1   Southport  United Kingdom    North               England\n",
       "2     Valence          France  Central  Auvergne-Rhône-Alpes\n",
       "3  Birmingham  United Kingdom    North               England\n",
       "4  Echirolles          France  Central  Auvergne-Rhône-Alpes"
      ]
     },
     "execution_count": 66,
     "metadata": {},
     "output_type": "execute_result"
    }
   ],
   "source": [
    "# A:\n",
    "sql('''\n",
    "select \"City\", \"Country\", \"Region\", \"State\" from orders limit 5\n",
    "''')"
   ]
  },
  {
   "cell_type": "markdown",
   "metadata": {},
   "source": [
    "#### 7. Create a Query to return a table with all of the orders that had a negative profit from the Order Breakdown Table."
   ]
  },
  {
   "cell_type": "code",
   "execution_count": 67,
   "metadata": {},
   "outputs": [
    {
     "data": {
      "text/html": [
       "<div>\n",
       "<style scoped>\n",
       "    .dataframe tbody tr th:only-of-type {\n",
       "        vertical-align: middle;\n",
       "    }\n",
       "\n",
       "    .dataframe tbody tr th {\n",
       "        vertical-align: top;\n",
       "    }\n",
       "\n",
       "    .dataframe thead th {\n",
       "        text-align: right;\n",
       "    }\n",
       "</style>\n",
       "<table border=\"1\" class=\"dataframe\">\n",
       "  <thead>\n",
       "    <tr style=\"text-align: right;\">\n",
       "      <th></th>\n",
       "      <th>OrderID</th>\n",
       "      <th>ProductName</th>\n",
       "      <th>Discount</th>\n",
       "      <th>Sales</th>\n",
       "      <th>Profit</th>\n",
       "      <th>Quantity</th>\n",
       "      <th>Category</th>\n",
       "      <th>Sub-Category</th>\n",
       "    </tr>\n",
       "  </thead>\n",
       "  <tbody>\n",
       "    <tr>\n",
       "      <th>0</th>\n",
       "      <td>BN-2011-7407039</td>\n",
       "      <td>Enermax Note Cards, Premium</td>\n",
       "      <td>0.5</td>\n",
       "      <td>45.0</td>\n",
       "      <td>-26.0</td>\n",
       "      <td>3</td>\n",
       "      <td>Office Supplies</td>\n",
       "      <td>Paper</td>\n",
       "    </tr>\n",
       "    <tr>\n",
       "      <th>1</th>\n",
       "      <td>AZ-2011-9050313</td>\n",
       "      <td>Dania Corner Shelving, Traditional</td>\n",
       "      <td>0.0</td>\n",
       "      <td>854.0</td>\n",
       "      <td>290.0</td>\n",
       "      <td>7</td>\n",
       "      <td>Furniture</td>\n",
       "      <td>Bookcases</td>\n",
       "    </tr>\n",
       "    <tr>\n",
       "      <th>2</th>\n",
       "      <td>AZ-2011-6674300</td>\n",
       "      <td>Binney &amp; Smith Sketch Pad, Easy-Erase</td>\n",
       "      <td>0.0</td>\n",
       "      <td>140.0</td>\n",
       "      <td>21.0</td>\n",
       "      <td>3</td>\n",
       "      <td>Office Supplies</td>\n",
       "      <td>Art</td>\n",
       "    </tr>\n",
       "    <tr>\n",
       "      <th>3</th>\n",
       "      <td>BN-2011-2819714</td>\n",
       "      <td>Boston Markers, Easy-Erase</td>\n",
       "      <td>0.5</td>\n",
       "      <td>27.0</td>\n",
       "      <td>-22.0</td>\n",
       "      <td>2</td>\n",
       "      <td>Office Supplies</td>\n",
       "      <td>Art</td>\n",
       "    </tr>\n",
       "    <tr>\n",
       "      <th>4</th>\n",
       "      <td>BN-2011-2819714</td>\n",
       "      <td>Eldon Folders, Single Width</td>\n",
       "      <td>0.5</td>\n",
       "      <td>17.0</td>\n",
       "      <td>-1.0</td>\n",
       "      <td>2</td>\n",
       "      <td>Office Supplies</td>\n",
       "      <td>Storage</td>\n",
       "    </tr>\n",
       "  </tbody>\n",
       "</table>\n",
       "</div>"
      ],
      "text/plain": [
       "           OrderID                            ProductName  Discount  Sales  \\\n",
       "0  BN-2011-7407039            Enermax Note Cards, Premium       0.5   45.0   \n",
       "1  AZ-2011-9050313     Dania Corner Shelving, Traditional       0.0  854.0   \n",
       "2  AZ-2011-6674300  Binney & Smith Sketch Pad, Easy-Erase       0.0  140.0   \n",
       "3  BN-2011-2819714             Boston Markers, Easy-Erase       0.5   27.0   \n",
       "4  BN-2011-2819714            Eldon Folders, Single Width       0.5   17.0   \n",
       "\n",
       "   Profit  Quantity         Category Sub-Category  \n",
       "0   -26.0         3  Office Supplies        Paper  \n",
       "1   290.0         7        Furniture    Bookcases  \n",
       "2    21.0         3  Office Supplies          Art  \n",
       "3   -22.0         2  Office Supplies          Art  \n",
       "4    -1.0         2  Office Supplies      Storage  "
      ]
     },
     "execution_count": 67,
     "metadata": {},
     "output_type": "execute_result"
    }
   ],
   "source": [
    "sql('''\n",
    "select * from order_breakdown limit 5\n",
    "''')"
   ]
  },
  {
   "cell_type": "code",
   "execution_count": 73,
   "metadata": {},
   "outputs": [
    {
     "data": {
      "text/html": [
       "<div>\n",
       "<style scoped>\n",
       "    .dataframe tbody tr th:only-of-type {\n",
       "        vertical-align: middle;\n",
       "    }\n",
       "\n",
       "    .dataframe tbody tr th {\n",
       "        vertical-align: top;\n",
       "    }\n",
       "\n",
       "    .dataframe thead th {\n",
       "        text-align: right;\n",
       "    }\n",
       "</style>\n",
       "<table border=\"1\" class=\"dataframe\">\n",
       "  <thead>\n",
       "    <tr style=\"text-align: right;\">\n",
       "      <th></th>\n",
       "      <th>OrderID</th>\n",
       "      <th>OrderDate</th>\n",
       "      <th>CustomerName</th>\n",
       "      <th>City</th>\n",
       "      <th>Country</th>\n",
       "      <th>Region</th>\n",
       "      <th>Segment</th>\n",
       "      <th>ShipDate</th>\n",
       "      <th>ShipMode</th>\n",
       "      <th>State</th>\n",
       "      <th>OrderID</th>\n",
       "      <th>ProductName</th>\n",
       "      <th>Discount</th>\n",
       "      <th>Sales</th>\n",
       "      <th>Profit</th>\n",
       "      <th>Quantity</th>\n",
       "      <th>Category</th>\n",
       "      <th>Sub-Category</th>\n",
       "    </tr>\n",
       "  </thead>\n",
       "  <tbody>\n",
       "    <tr>\n",
       "      <th>0</th>\n",
       "      <td>BN-2011-7407039</td>\n",
       "      <td>1/1/2011</td>\n",
       "      <td>Ruby Patel</td>\n",
       "      <td>Stockholm</td>\n",
       "      <td>Sweden</td>\n",
       "      <td>North</td>\n",
       "      <td>Home Office</td>\n",
       "      <td>1/5/2011</td>\n",
       "      <td>Economy Plus</td>\n",
       "      <td>Stockholm</td>\n",
       "      <td>BN-2011-7407039</td>\n",
       "      <td>Enermax Note Cards, Premium</td>\n",
       "      <td>0.5</td>\n",
       "      <td>45.0</td>\n",
       "      <td>-26.0</td>\n",
       "      <td>3</td>\n",
       "      <td>Office Supplies</td>\n",
       "      <td>Paper</td>\n",
       "    </tr>\n",
       "    <tr>\n",
       "      <th>1</th>\n",
       "      <td>BN-2011-2819714</td>\n",
       "      <td>1/4/2011</td>\n",
       "      <td>Mary Parker</td>\n",
       "      <td>Birmingham</td>\n",
       "      <td>United Kingdom</td>\n",
       "      <td>North</td>\n",
       "      <td>Corporate</td>\n",
       "      <td>1/9/2011</td>\n",
       "      <td>Economy</td>\n",
       "      <td>England</td>\n",
       "      <td>BN-2011-2819714</td>\n",
       "      <td>Boston Markers, Easy-Erase</td>\n",
       "      <td>0.5</td>\n",
       "      <td>27.0</td>\n",
       "      <td>-22.0</td>\n",
       "      <td>2</td>\n",
       "      <td>Office Supplies</td>\n",
       "      <td>Art</td>\n",
       "    </tr>\n",
       "    <tr>\n",
       "      <th>2</th>\n",
       "      <td>BN-2011-2819714</td>\n",
       "      <td>1/4/2011</td>\n",
       "      <td>Mary Parker</td>\n",
       "      <td>Birmingham</td>\n",
       "      <td>United Kingdom</td>\n",
       "      <td>North</td>\n",
       "      <td>Corporate</td>\n",
       "      <td>1/9/2011</td>\n",
       "      <td>Economy</td>\n",
       "      <td>England</td>\n",
       "      <td>BN-2011-2819714</td>\n",
       "      <td>Eldon Folders, Single Width</td>\n",
       "      <td>0.5</td>\n",
       "      <td>17.0</td>\n",
       "      <td>-1.0</td>\n",
       "      <td>2</td>\n",
       "      <td>Office Supplies</td>\n",
       "      <td>Storage</td>\n",
       "    </tr>\n",
       "    <tr>\n",
       "      <th>3</th>\n",
       "      <td>BN-2011-3248724</td>\n",
       "      <td>1/8/2011</td>\n",
       "      <td>Archer Hort</td>\n",
       "      <td>Toulouse</td>\n",
       "      <td>France</td>\n",
       "      <td>Central</td>\n",
       "      <td>Consumer</td>\n",
       "      <td>1/14/2011</td>\n",
       "      <td>Economy</td>\n",
       "      <td>Languedoc-Roussillon-Midi-Pyrénées</td>\n",
       "      <td>BN-2011-3248724</td>\n",
       "      <td>Ikea Classic Bookcase, Metal</td>\n",
       "      <td>0.6</td>\n",
       "      <td>987.0</td>\n",
       "      <td>-1012.0</td>\n",
       "      <td>6</td>\n",
       "      <td>Furniture</td>\n",
       "      <td>Bookcases</td>\n",
       "    </tr>\n",
       "    <tr>\n",
       "      <th>4</th>\n",
       "      <td>BN-2011-3248724</td>\n",
       "      <td>1/8/2011</td>\n",
       "      <td>Archer Hort</td>\n",
       "      <td>Toulouse</td>\n",
       "      <td>France</td>\n",
       "      <td>Central</td>\n",
       "      <td>Consumer</td>\n",
       "      <td>1/14/2011</td>\n",
       "      <td>Economy</td>\n",
       "      <td>Languedoc-Roussillon-Midi-Pyrénées</td>\n",
       "      <td>BN-2011-3248724</td>\n",
       "      <td>Binney &amp; Smith Sketch Pad, Blue</td>\n",
       "      <td>0.5</td>\n",
       "      <td>116.0</td>\n",
       "      <td>-56.0</td>\n",
       "      <td>5</td>\n",
       "      <td>Office Supplies</td>\n",
       "      <td>Art</td>\n",
       "    </tr>\n",
       "  </tbody>\n",
       "</table>\n",
       "</div>"
      ],
      "text/plain": [
       "           OrderID OrderDate CustomerName        City         Country  \\\n",
       "0  BN-2011-7407039  1/1/2011   Ruby Patel   Stockholm          Sweden   \n",
       "1  BN-2011-2819714  1/4/2011  Mary Parker  Birmingham  United Kingdom   \n",
       "2  BN-2011-2819714  1/4/2011  Mary Parker  Birmingham  United Kingdom   \n",
       "3  BN-2011-3248724  1/8/2011  Archer Hort    Toulouse          France   \n",
       "4  BN-2011-3248724  1/8/2011  Archer Hort    Toulouse          France   \n",
       "\n",
       "    Region      Segment   ShipDate      ShipMode  \\\n",
       "0    North  Home Office   1/5/2011  Economy Plus   \n",
       "1    North    Corporate   1/9/2011       Economy   \n",
       "2    North    Corporate   1/9/2011       Economy   \n",
       "3  Central     Consumer  1/14/2011       Economy   \n",
       "4  Central     Consumer  1/14/2011       Economy   \n",
       "\n",
       "                                State          OrderID  \\\n",
       "0                           Stockholm  BN-2011-7407039   \n",
       "1                             England  BN-2011-2819714   \n",
       "2                             England  BN-2011-2819714   \n",
       "3  Languedoc-Roussillon-Midi-Pyrénées  BN-2011-3248724   \n",
       "4  Languedoc-Roussillon-Midi-Pyrénées  BN-2011-3248724   \n",
       "\n",
       "                       ProductName  Discount  Sales  Profit  Quantity  \\\n",
       "0      Enermax Note Cards, Premium       0.5   45.0   -26.0         3   \n",
       "1       Boston Markers, Easy-Erase       0.5   27.0   -22.0         2   \n",
       "2      Eldon Folders, Single Width       0.5   17.0    -1.0         2   \n",
       "3     Ikea Classic Bookcase, Metal       0.6  987.0 -1012.0         6   \n",
       "4  Binney & Smith Sketch Pad, Blue       0.5  116.0   -56.0         5   \n",
       "\n",
       "          Category Sub-Category  \n",
       "0  Office Supplies        Paper  \n",
       "1  Office Supplies          Art  \n",
       "2  Office Supplies      Storage  \n",
       "3        Furniture    Bookcases  \n",
       "4  Office Supplies          Art  "
      ]
     },
     "execution_count": 73,
     "metadata": {},
     "output_type": "execute_result"
    }
   ],
   "source": [
    "# A:\n",
    "sql('''\n",
    "select * from orders\n",
    "inner join\n",
    "order_breakdown on orders.\"OrderID\" = order_breakdown.\"OrderID\"\n",
    "where \"Profit\" < 0\n",
    "''').head()"
   ]
  },
  {
   "cell_type": "markdown",
   "metadata": {},
   "source": [
    "#### 8. Construct a query to return a table with the Customer Name and Product Name.  \n",
    "\n",
    "> **Note:** This will require a join!"
   ]
  },
  {
   "cell_type": "code",
   "execution_count": 75,
   "metadata": {},
   "outputs": [
    {
     "data": {
      "text/html": [
       "<div>\n",
       "<style scoped>\n",
       "    .dataframe tbody tr th:only-of-type {\n",
       "        vertical-align: middle;\n",
       "    }\n",
       "\n",
       "    .dataframe tbody tr th {\n",
       "        vertical-align: top;\n",
       "    }\n",
       "\n",
       "    .dataframe thead th {\n",
       "        text-align: right;\n",
       "    }\n",
       "</style>\n",
       "<table border=\"1\" class=\"dataframe\">\n",
       "  <thead>\n",
       "    <tr style=\"text-align: right;\">\n",
       "      <th></th>\n",
       "      <th>CustomerName</th>\n",
       "      <th>ProductName</th>\n",
       "    </tr>\n",
       "  </thead>\n",
       "  <tbody>\n",
       "    <tr>\n",
       "      <th>0</th>\n",
       "      <td>Ruby Patel</td>\n",
       "      <td>Enermax Note Cards, Premium</td>\n",
       "    </tr>\n",
       "    <tr>\n",
       "      <th>1</th>\n",
       "      <td>Summer Hayward</td>\n",
       "      <td>Dania Corner Shelving, Traditional</td>\n",
       "    </tr>\n",
       "    <tr>\n",
       "      <th>2</th>\n",
       "      <td>Devin Huddleston</td>\n",
       "      <td>Binney &amp; Smith Sketch Pad, Easy-Erase</td>\n",
       "    </tr>\n",
       "    <tr>\n",
       "      <th>3</th>\n",
       "      <td>Mary Parker</td>\n",
       "      <td>Boston Markers, Easy-Erase</td>\n",
       "    </tr>\n",
       "    <tr>\n",
       "      <th>4</th>\n",
       "      <td>Mary Parker</td>\n",
       "      <td>Eldon Folders, Single Width</td>\n",
       "    </tr>\n",
       "  </tbody>\n",
       "</table>\n",
       "</div>"
      ],
      "text/plain": [
       "       CustomerName                            ProductName\n",
       "0        Ruby Patel            Enermax Note Cards, Premium\n",
       "1    Summer Hayward     Dania Corner Shelving, Traditional\n",
       "2  Devin Huddleston  Binney & Smith Sketch Pad, Easy-Erase\n",
       "3       Mary Parker             Boston Markers, Easy-Erase\n",
       "4       Mary Parker            Eldon Folders, Single Width"
      ]
     },
     "execution_count": 75,
     "metadata": {},
     "output_type": "execute_result"
    }
   ],
   "source": [
    "# A:\n",
    "sql('''\n",
    "select orders.\"CustomerName\", order_breakdown.\"ProductName\" from orders\n",
    "inner join\n",
    "order_breakdown on orders.\"OrderID\" = order_breakdown.\"OrderID\"\n",
    "''').head()"
   ]
  },
  {
   "cell_type": "markdown",
   "metadata": {},
   "source": [
    "#### 9.  How many orders for \"Office Supplies\" (Category) has Sweden made?\n",
    "\n",
    "> **Note:** from this point on you'll probably be combining SQL and Pandas, in that you would use SQL querys to gather the relevant information and use Pandas to analyze it."
   ]
  },
  {
   "cell_type": "code",
   "execution_count": 84,
   "metadata": {},
   "outputs": [
    {
     "data": {
      "text/plain": [
       "133"
      ]
     },
     "execution_count": 84,
     "metadata": {},
     "output_type": "execute_result"
    }
   ],
   "source": [
    "# A:\n",
    "sql('''\n",
    "select orders.\"OrderID\" from orders\n",
    "inner join\n",
    "order_breakdown on orders.\"OrderID\" = order_breakdown.\"OrderID\"\n",
    "where orders.\"Country\" = 'Sweden' and order_breakdown.\"Category\" = 'Office Supplies'\n",
    "''').count()[0]"
   ]
  },
  {
   "cell_type": "markdown",
   "metadata": {},
   "source": [
    "#### 10. What was the total sales for products that have been discounted? "
   ]
  },
  {
   "cell_type": "code",
   "execution_count": 89,
   "metadata": {},
   "outputs": [
    {
     "data": {
      "text/plain": [
       "1115614.0"
      ]
     },
     "execution_count": 89,
     "metadata": {},
     "output_type": "execute_result"
    }
   ],
   "source": [
    "# A:\n",
    "sql('''\n",
    "select * from order_breakdown where \"discount\" > 0\n",
    "''').Sales.sum()"
   ]
  },
  {
   "cell_type": "markdown",
   "metadata": {},
   "source": [
    "#### 11. What is the total quantity of objects sold for each country?"
   ]
  },
  {
   "cell_type": "code",
   "execution_count": 95,
   "metadata": {},
   "outputs": [
    {
     "data": {
      "text/html": [
       "<div>\n",
       "<style scoped>\n",
       "    .dataframe tbody tr th:only-of-type {\n",
       "        vertical-align: middle;\n",
       "    }\n",
       "\n",
       "    .dataframe tbody tr th {\n",
       "        vertical-align: top;\n",
       "    }\n",
       "\n",
       "    .dataframe thead th {\n",
       "        text-align: right;\n",
       "    }\n",
       "</style>\n",
       "<table border=\"1\" class=\"dataframe\">\n",
       "  <thead>\n",
       "    <tr style=\"text-align: right;\">\n",
       "      <th></th>\n",
       "      <th>Country</th>\n",
       "      <th>count</th>\n",
       "    </tr>\n",
       "  </thead>\n",
       "  <tbody>\n",
       "    <tr>\n",
       "      <th>0</th>\n",
       "      <td>Austria</td>\n",
       "      <td>973</td>\n",
       "    </tr>\n",
       "    <tr>\n",
       "      <th>1</th>\n",
       "      <td>Belgium</td>\n",
       "      <td>532</td>\n",
       "    </tr>\n",
       "    <tr>\n",
       "      <th>2</th>\n",
       "      <td>Denmark</td>\n",
       "      <td>204</td>\n",
       "    </tr>\n",
       "    <tr>\n",
       "      <th>3</th>\n",
       "      <td>Finland</td>\n",
       "      <td>201</td>\n",
       "    </tr>\n",
       "    <tr>\n",
       "      <th>4</th>\n",
       "      <td>France</td>\n",
       "      <td>7329</td>\n",
       "    </tr>\n",
       "    <tr>\n",
       "      <th>5</th>\n",
       "      <td>Germany</td>\n",
       "      <td>6179</td>\n",
       "    </tr>\n",
       "    <tr>\n",
       "      <th>6</th>\n",
       "      <td>Ireland</td>\n",
       "      <td>392</td>\n",
       "    </tr>\n",
       "    <tr>\n",
       "      <th>7</th>\n",
       "      <td>Italy</td>\n",
       "      <td>3612</td>\n",
       "    </tr>\n",
       "    <tr>\n",
       "      <th>8</th>\n",
       "      <td>Netherlands</td>\n",
       "      <td>1526</td>\n",
       "    </tr>\n",
       "    <tr>\n",
       "      <th>9</th>\n",
       "      <td>Norway</td>\n",
       "      <td>261</td>\n",
       "    </tr>\n",
       "    <tr>\n",
       "      <th>10</th>\n",
       "      <td>Portugal</td>\n",
       "      <td>286</td>\n",
       "    </tr>\n",
       "    <tr>\n",
       "      <th>11</th>\n",
       "      <td>Spain</td>\n",
       "      <td>2881</td>\n",
       "    </tr>\n",
       "    <tr>\n",
       "      <th>12</th>\n",
       "      <td>Sweden</td>\n",
       "      <td>753</td>\n",
       "    </tr>\n",
       "    <tr>\n",
       "      <th>13</th>\n",
       "      <td>Switzerland</td>\n",
       "      <td>308</td>\n",
       "    </tr>\n",
       "    <tr>\n",
       "      <th>14</th>\n",
       "      <td>United Kingdom</td>\n",
       "      <td>4917</td>\n",
       "    </tr>\n",
       "  </tbody>\n",
       "</table>\n",
       "</div>"
      ],
      "text/plain": [
       "           Country  count\n",
       "0          Austria    973\n",
       "1          Belgium    532\n",
       "2          Denmark    204\n",
       "3          Finland    201\n",
       "4           France   7329\n",
       "5          Germany   6179\n",
       "6          Ireland    392\n",
       "7            Italy   3612\n",
       "8      Netherlands   1526\n",
       "9           Norway    261\n",
       "10        Portugal    286\n",
       "11           Spain   2881\n",
       "12          Sweden    753\n",
       "13     Switzerland    308\n",
       "14  United Kingdom   4917"
      ]
     },
     "execution_count": 95,
     "metadata": {},
     "output_type": "execute_result"
    }
   ],
   "source": [
    "# A:\n",
    "sql('''\n",
    "select orders.\"Country\", sum(order_breakdown.\"Quantity\") as \"count\" from order_breakdown\n",
    "inner join orders on order_breakdown.\"OrderID\" = orders.\"OrderID\"\n",
    "group by orders.\"Country\"\n",
    "''')"
   ]
  },
  {
   "cell_type": "markdown",
   "metadata": {},
   "source": [
    "#### 12. In what Countries are profits lowest? (Report lowest 5-10)"
   ]
  },
  {
   "cell_type": "code",
   "execution_count": 100,
   "metadata": {},
   "outputs": [
    {
     "data": {
      "text/plain": [
       "'Netherlands'"
      ]
     },
     "execution_count": 100,
     "metadata": {},
     "output_type": "execute_result"
    }
   ],
   "source": [
    "# A:\n",
    "sql('''\n",
    "select orders.\"Country\", sum(order_breakdown.\"Profit\") as \"count\" from order_breakdown\n",
    "inner join orders on order_breakdown.\"OrderID\" = orders.\"OrderID\"\n",
    "group by orders.\"Country\"\n",
    "order by \"count\" ASC\n",
    "limit 2\n",
    "''').iloc[0,0]"
   ]
  },
  {
   "cell_type": "markdown",
   "metadata": {},
   "source": [
    "#### 13. What Counties have the best and worst Sales to Profit Ratios?\n",
    "(Total Sales divided by Total Profits.)\n",
    "Essentially this is saying for every dollar of product sold, how much is profit."
   ]
  },
  {
   "cell_type": "code",
   "execution_count": 109,
   "metadata": {},
   "outputs": [
    {
     "data": {
      "text/plain": [
       "[['Germany', 9226.742840039033], ['Netherlands', -1226.4943712881009]]"
      ]
     },
     "execution_count": 109,
     "metadata": {},
     "output_type": "execute_result"
    }
   ],
   "source": [
    "# A:\n",
    "sql('''select orders.\"Country\", sum(order_breakdown.\"Sales\"/order_breakdown.\"Profit\") as \"ratio\" from order_breakdown\n",
    "inner join orders on order_breakdown.\"OrderID\" = orders.\"OrderID\"\n",
    "group by orders.\"Country\"\n",
    "order by \"ratio\" DESC\n",
    "''').iloc[[0,-1],:].values.tolist()"
   ]
  },
  {
   "cell_type": "markdown",
   "metadata": {},
   "source": [
    "#### 14. What Shipping method is most common for 'Bookcases' (Sub Category)?"
   ]
  },
  {
   "cell_type": "code",
   "execution_count": 118,
   "metadata": {},
   "outputs": [
    {
     "data": {
      "text/plain": [
       "'Economy'"
      ]
     },
     "execution_count": 118,
     "metadata": {},
     "output_type": "execute_result"
    }
   ],
   "source": [
    "# A:\n",
    "sql('''\n",
    "select orders.\"ShipMode\", orders.\"OrderID\" from order_breakdown \n",
    "inner join orders on orders.\"OrderID\" = order_breakdown.\"OrderID\"\n",
    "where order_breakdown.\"Sub-Category\" = \"Bookcases\"\n",
    "''').ShipMode.value_counts().index[0]"
   ]
  },
  {
   "cell_type": "markdown",
   "metadata": {},
   "source": [
    "#### 15 .What city in the Orders table generated the highest net sales?  (List all the cities and countries in descending order by net sales.)"
   ]
  },
  {
   "cell_type": "code",
   "execution_count": 125,
   "metadata": {},
   "outputs": [
    {
     "data": {
      "text/plain": [
       "'London'"
      ]
     },
     "execution_count": 125,
     "metadata": {},
     "output_type": "execute_result"
    }
   ],
   "source": [
    "# A:\n",
    "sql('''\n",
    "select orders.\"Country\", orders.\"City\", sum(order_breakdown.\"Sales\") as \"netsales\" from order_breakdown \n",
    "inner join orders on orders.\"OrderID\" = order_breakdown.\"OrderID\"\n",
    "group by orders.\"Country\", orders.\"City\"\n",
    "order by \"netsales\" DESC\n",
    "''').iloc[0,1]"
   ]
  },
  {
   "cell_type": "markdown",
   "metadata": {},
   "source": [
    "#### BONUS: Create a Column called 'Shipping Delay' on the 'orders' table, which is the difference in days between 'Order Date' and 'Ship Date'."
   ]
  },
  {
   "cell_type": "code",
   "execution_count": 18,
   "metadata": {},
   "outputs": [],
   "source": [
    "# A:"
   ]
  },
  {
   "cell_type": "code",
   "execution_count": 19,
   "metadata": {},
   "outputs": [],
   "source": [
    "# A:"
   ]
  },
  {
   "cell_type": "markdown",
   "metadata": {},
   "source": [
    "#### BONUS: Update your Orders table in your Sqlite DB to include the 'Shipping Delay' feature."
   ]
  },
  {
   "cell_type": "code",
   "execution_count": 20,
   "metadata": {
    "collapsed": true
   },
   "outputs": [],
   "source": [
    "# A:"
   ]
  },
  {
   "cell_type": "markdown",
   "metadata": {},
   "source": [
    "#### BONUS: Which Product Category has the highest average 'Shipping Delay'?"
   ]
  },
  {
   "cell_type": "code",
   "execution_count": 21,
   "metadata": {},
   "outputs": [],
   "source": [
    "# A:"
   ]
  },
  {
   "cell_type": "markdown",
   "metadata": {},
   "source": [
    "### Challenge problem:   \n",
    "**In what months and Categories were Sales Targets Exceeded?**\n",
    "\n",
    "---\n",
    "\n",
    "This may require a considerable amount of data processing."
   ]
  },
  {
   "cell_type": "code",
   "execution_count": 22,
   "metadata": {},
   "outputs": [],
   "source": [
    "# A:"
   ]
  }
 ],
 "metadata": {
  "anaconda-cloud": {},
  "kernelspec": {
   "display_name": "Python 3",
   "language": "python",
   "name": "python3"
  },
  "language_info": {
   "codemirror_mode": {
    "name": "ipython",
    "version": 3
   },
   "file_extension": ".py",
   "mimetype": "text/x-python",
   "name": "python",
   "nbconvert_exporter": "python",
   "pygments_lexer": "ipython3",
   "version": "3.7.3"
  }
 },
 "nbformat": 4,
 "nbformat_minor": 1
}
